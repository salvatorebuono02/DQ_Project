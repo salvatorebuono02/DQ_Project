{
 "cells": [
  {
   "cell_type": "markdown",
   "metadata": {},
   "source": [
    "# Upload Dataset"
   ]
  },
  {
   "cell_type": "code",
   "execution_count": 2,
   "metadata": {},
   "outputs": [
    {
     "name": "stdout",
     "output_type": "stream",
     "text": [
      "(1000, 3)\n",
      "(1000,)\n"
     ]
    }
   ],
   "source": [
    "from SCRIPTS.A_data_collection import make_dataset_for_regression\n",
    "X, y = make_dataset_for_regression(n_samples=1000, n_features=3, n_informative=3, n_targets=1, bias=0.0, effective_rank=None, tail_strength=0.5, noise=0.0, seed=2023)\n",
    "print(X.shape)\n",
    "print(y.shape)"
   ]
  },
  {
   "cell_type": "markdown",
   "metadata": {},
   "source": [
    "## Data analysis\n",
    "Try to understand duplicates, range of values, functional dependencies"
   ]
  },
  {
   "cell_type": "code",
   "execution_count": 5,
   "metadata": {},
   "outputs": [
    {
     "name": "stdout",
     "output_type": "stream",
     "text": [
      "          0         1         2\n",
      "0  1.259016 -1.214310 -0.216152\n",
      "1 -0.887212  0.688688  1.011227\n",
      "2 -0.353680  1.205251 -0.017633\n",
      "3 -0.576828  0.367296  0.762756\n",
      "4 -0.626545  0.669255  0.453065\n"
     ]
    }
   ],
   "source": [
    "import pandas as pd\n",
    "\n",
    "df = pd.DataFrame(X)\n",
    "print(df.head())"
   ]
  },
  {
   "cell_type": "code",
   "execution_count": 6,
   "metadata": {},
   "outputs": [
    {
     "data": {
      "text/plain": [
       "0    float64\n",
       "1    float64\n",
       "2    float64\n",
       "dtype: object"
      ]
     },
     "execution_count": 6,
     "metadata": {},
     "output_type": "execute_result"
    }
   ],
   "source": [
    "df.dtypes"
   ]
  },
  {
   "cell_type": "markdown",
   "metadata": {},
   "source": [
    "### Single column analysis"
   ]
  },
  {
   "cell_type": "code",
   "execution_count": 9,
   "metadata": {},
   "outputs": [
    {
     "name": "stdout",
     "output_type": "stream",
     "text": [
      "1000\n"
     ]
    }
   ],
   "source": [
    "distinct_values=df[0].nunique()\n",
    "print(distinct_values)"
   ]
  },
  {
   "cell_type": "code",
   "execution_count": 10,
   "metadata": {},
   "outputs": [
    {
     "name": "stdout",
     "output_type": "stream",
     "text": [
      "Mean values:\n",
      "0   -0.018361\n",
      "1   -0.037786\n",
      "2    0.002820\n",
      "dtype: float64\n",
      "Standard deviation values:\n",
      "0    0.978938\n",
      "1    0.987818\n",
      "2    0.979472\n",
      "dtype: float64\n"
     ]
    }
   ],
   "source": [
    "mean_values = df.mean()\n",
    "std_values = df.std()\n",
    "\n",
    "print(\"Mean values:\")\n",
    "print(mean_values)\n",
    "\n",
    "print(\"Standard deviation values:\")\n",
    "print(std_values)\n"
   ]
  },
  {
   "cell_type": "code",
   "execution_count": 16,
   "metadata": {},
   "outputs": [
    {
     "name": "stdout",
     "output_type": "stream",
     "text": [
      "          0         1      2\n",
      "0  1.259016 -1.214310   True\n",
      "1 -0.887212  0.688688   True\n",
      "2 -0.353680  1.205251  False\n",
      "3 -0.576828  0.367296   True\n",
      "4 -0.626545  0.669255  False\n"
     ]
    }
   ],
   "source": [
    "import pandas as pd\n",
    "import numpy as np\n",
    "\n",
    "def inject_variable_type_issue(dataset, percentage):\n",
    "    # Copy the dataset to avoid modifying the original\n",
    "    polluted_dataset = dataset.copy()\n",
    "\n",
    "    # Determine the number of features to be affected\n",
    "    num_features_affected = int(len(dataset.columns) * percentage)\n",
    "\n",
    "    # Generate random indices to select features to be affected\n",
    "    random_indices = np.random.choice(len(dataset.columns), num_features_affected, replace=False)\n",
    "\n",
    "    # Convert numeric features to categorical or boolean at random indices\n",
    "    for idx in random_indices:\n",
    "        column_name = dataset.columns[idx]\n",
    "        if np.issubdtype(dataset[column_name].dtype, np.number):\n",
    "            # Convert numeric feature to categorical or boolean\n",
    "            if np.random.rand() < 0.5:\n",
    "                # Convert to categorical\n",
    "                polluted_dataset[column_name] = pd.Categorical(polluted_dataset[column_name])\n",
    "            else:\n",
    "                # Convert to boolean\n",
    "                polluted_dataset[column_name] = np.random.choice([True, False], size=len(dataset))\n",
    "\n",
    "    return polluted_dataset\n",
    "\n",
    "polluted_dataset = inject_variable_type_issue(df, 0.1)\n",
    "print(polluted_dataset.head())"
   ]
  }
 ],
 "metadata": {
  "kernelspec": {
   "display_name": "Python 3",
   "language": "python",
   "name": "python3"
  },
  "language_info": {
   "codemirror_mode": {
    "name": "ipython",
    "version": 3
   },
   "file_extension": ".py",
   "mimetype": "text/x-python",
   "name": "python",
   "nbconvert_exporter": "python",
   "pygments_lexer": "ipython3",
   "version": "3.10.12"
  }
 },
 "nbformat": 4,
 "nbformat_minor": 2
}
